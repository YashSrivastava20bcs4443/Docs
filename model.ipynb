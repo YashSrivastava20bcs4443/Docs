{
 "cells": [
  {
   "cell_type": "code",
   "execution_count": null,
   "id": "29198c42-551d-4da3-b12e-db4d3fa0de58",
   "metadata": {},
   "outputs": [],
   "source": [
    "import pandas as pd\n",
    "import numpy as np\n",
    "from sklearn.model_selection import train_test_split\n",
    "from sklearn.metrics import mean_squared_error, mean_absolute_error\n",
    "from statsmodels.tsa.holtwinters import ExponentialSmoothing\n",
    "import matplotlib.pyplot as plt\n"
   ]
  },
  {
   "cell_type": "code",
   "execution_count": null,
   "id": "8513934c-7412-4585-b32f-e2fbb7fbec91",
   "metadata": {},
   "outputs": [],
   "source": [
    "# Load the CSV file with header in row 3\n",
    "df = pd.read_csv('your_file.csv', header=2)\n",
    "\n",
    "# Display the first few rows to understand the structure\n",
    "print(df.head())\n",
    "\n",
    "# Convert the 'Interval' column to datetime\n",
    "df['Interval'] = pd.to_datetime(df['Interval'])\n",
    "\n",
    "# Sort the data by 'Interval' just in case it is not sorted\n",
    "df = df.sort_values('Interval')\n",
    "\n",
    "# Drop any duplicates or missing values if necessary\n",
    "df = df.drop_duplicates()\n",
    "df = df.dropna()\n",
    "\n",
    "# Filter out unnecessary columns if you want to focus only on the 'Average' usage\n",
    "# You can adjust this to focus on CPU or Memory specifically by filtering on `Name` or `Rule`\n",
    "df_filtered = df[['Interval', 'Name', 'Average']]\n",
    "\n",
    "# Display cleaned data\n",
    "print(df_filtered.head())\n"
   ]
  },
  {
   "cell_type": "code",
   "execution_count": null,
   "id": "25717235-09c1-4348-888b-e456055d7aa5",
   "metadata": {},
   "outputs": [],
   "source": [
    "# Example: Filter for CPU data\n",
    "cpu_data = df_filtered[df_filtered['Name'].str.contains('CPU', case=False)]\n",
    "\n",
    "# Example: Filter for Memory data\n",
    "memory_data = df_filtered[df_filtered['Name'].str.contains('Memory', case=False)]\n"
   ]
  },
  {
   "cell_type": "code",
   "execution_count": null,
   "id": "6211637a-12bd-4af7-8197-1f9f14e4e136",
   "metadata": {},
   "outputs": [],
   "source": [
    "# Set 'Interval' as the index for time series analysis\n",
    "cpu_data.set_index('Interval', inplace=True)\n",
    "memory_data.set_index('Interval', inplace=True)\n",
    "\n",
    "# Split the data into training and testing sets (for example, 80% training, 20% testing)\n",
    "train_cpu, test_cpu = train_test_split(cpu_data['Average'], test_size=0.2, shuffle=False)\n",
    "train_memory, test_memory = train_test_split(memory_data['Average'], test_size=0.2, shuffle=False)\n"
   ]
  },
  {
   "cell_type": "code",
   "execution_count": null,
   "id": "11ca5b7d-dd09-4154-8912-3e0f0e4e5c40",
   "metadata": {},
   "outputs": [],
   "source": [
    "# For CPU usage forecasting\n",
    "cpu_model = ExponentialSmoothing(train_cpu, trend='add', seasonal='add', seasonal_periods=12)\n",
    "cpu_model_fit = cpu_model.fit()\n",
    "cpu_forecast = cpu_model_fit.forecast(steps=1)\n",
    "\n",
    "print(f\"CPU Usage Forecast for the next day: {cpu_forecast}\")\n",
    "\n",
    "# For Memory usage forecasting\n",
    "memory_model = ExponentialSmoothing(train_memory, trend='add', seasonal='add', seasonal_periods=12)\n",
    "memory_model_fit = memory_model.fit()\n",
    "memory_forecast = memory_model_fit.forecast(steps=1)\n",
    "\n",
    "print(f\"Memory Usage Forecast for the next day: {memory_forecast}\")\n"
   ]
  },
  {
   "cell_type": "code",
   "execution_count": null,
   "id": "59497154-c623-468f-ae1a-8be78064c372",
   "metadata": {},
   "outputs": [],
   "source": [
    "# Evaluate CPU usage model\n",
    "cpu_predictions = cpu_model_fit.forecast(steps=len(test_cpu))\n",
    "cpu_mse = mean_squared_error(test_cpu, cpu_predictions)\n",
    "cpu_mae = mean_absolute_error(test_cpu, cpu_predictions)\n",
    "print(f\"CPU Mean Squared Error: {cpu_mse}\")\n",
    "print(f\"CPU Mean Absolute Error: {cpu_mae}\")\n",
    "\n",
    "# Evaluate Memory usage model\n",
    "memory_predictions = memory_model_fit.forecast(steps=len(test_memory))\n",
    "memory_mse = mean_squared_error(test_memory, memory_predictions)\n",
    "memory_mae = mean_absolute_error(test_memory, memory_predictions)\n",
    "print(f\"Memory Mean Squared Error: {memory_mse}\")\n",
    "print(f\"Memory Mean Absolute Error: {memory_mae}\")\n",
    "\n",
    "# Plot CPU usage predictions\n",
    "plt.figure(figsize=(10,6))\n",
    "plt.plot(test_cpu.index, test_cpu, label='Actual CPU Usage')\n",
    "plt.plot(test_cpu.index, cpu_predictions, label='Predicted CPU Usage', linestyle='--')\n",
    "plt.legend()\n",
    "plt.show()\n",
    "\n",
    "# Plot Memory usage predictions\n",
    "plt.figure(figsize=(10,6))\n",
    "plt.plot(test_memory.index, test_memory, label='Actual Memory Usage')\n",
    "plt.plot(test_memory.index, memory_predictions, label='Predicted Memory Usage', linestyle='--')\n",
    "plt.legend()\n",
    "plt.show()\n"
   ]
  }
 ],
 "metadata": {
  "kernelspec": {
   "display_name": "Python 3 (ipykernel)",
   "language": "python",
   "name": "python3"
  },
  "language_info": {
   "codemirror_mode": {
    "name": "ipython",
    "version": 3
   },
   "file_extension": ".py",
   "mimetype": "text/x-python",
   "name": "python",
   "nbconvert_exporter": "python",
   "pygments_lexer": "ipython3",
   "version": "3.11.9"
  }
 },
 "nbformat": 4,
 "nbformat_minor": 5
}
